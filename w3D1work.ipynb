{
 "cells": [
  {
   "cell_type": "markdown",
   "metadata": {},
   "source": [
    "### Exercise 1 - Write a Python class for an Animal that has a name and energy attributes. The animal class should also have methods for eat, sleep, and play that will take in an integer and increase/decrease the energy of the animal with a formatted print statement"
   ]
  },
  {
   "cell_type": "code",
   "execution_count": 1,
   "metadata": {},
   "outputs": [],
   "source": [
    "# Example 1\n",
    "# buddy = Animal('Buddy', 10)\n",
    "# buddy.play(5) -> \"Buddy is playing for 5 minutes. His energy is now 5\"\n",
    "# buddy.sleep(10) -> \"Buddy is sleeping for 10 minutes. His energy is now 15\"\n",
    "\n",
    "class Animal:\n",
    "\n",
    "    def __init__(self, name, energy):\n",
    "        self.name = name\n",
    "        self.energy = energy\n",
    "        \n",
    "    def play(self, minutes):\n",
    "        self.energy -= minutes\n",
    "        print(f\"{self.name} is playing for {minutes} minutes. His energy is now {self.energy}\")\n",
    "\n",
    "    def sleep(self, minutes):\n",
    "        self.energy += minutes\n",
    "        print(f\"{self.name} is sleeping for {minutes} minutes. His energy is now {self.energy}\")\n",
    "\n",
    "    def eat(self, amount):\n",
    "        self.energy += amount\n",
    "        print(f\"{self.name} is eating and gains {amount} energy. His energy is now {self.energy}\")\n",
    "\n",
    "\n"
   ]
  },
  {
   "cell_type": "code",
   "execution_count": 2,
   "metadata": {},
   "outputs": [
    {
     "name": "stdout",
     "output_type": "stream",
     "text": [
      "Buddy is playing for 5 minutes. His energy is now 5\n",
      "Buddy is sleeping for 10 minutes. His energy is now 15\n",
      "Buddy is eating and gains 3 energy. His energy is now 18\n"
     ]
    }
   ],
   "source": [
    "buddy = Animal('Buddy', 10)\n",
    "buddy.play(5)  \n",
    "buddy.sleep(10) \n",
    "buddy.eat(3)"
   ]
  },
  {
   "cell_type": "markdown",
   "metadata": {},
   "source": [
    "### Exercise 2 - Turn the shopping cart program into an object-oriented program\n"
   ]
  },
  {
   "cell_type": "code",
   "execution_count": null,
   "metadata": {},
   "outputs": [],
   "source": []
  }
 ],
 "metadata": {
  "kernelspec": {
   "display_name": "base",
   "language": "python",
   "name": "python3"
  },
  "language_info": {
   "codemirror_mode": {
    "name": "ipython",
    "version": 3
   },
   "file_extension": ".py",
   "mimetype": "text/x-python",
   "name": "python",
   "nbconvert_exporter": "python",
   "pygments_lexer": "ipython3",
   "version": "3.11.5"
  }
 },
 "nbformat": 4,
 "nbformat_minor": 2
}
